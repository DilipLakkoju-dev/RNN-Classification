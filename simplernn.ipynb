{
 "cells": [
  {
   "cell_type": "code",
   "execution_count": 3,
   "id": "a3c96dbb",
   "metadata": {},
   "outputs": [
    {
     "name": "stdout",
     "output_type": "stream",
     "text": [
      "WARNING:tensorflow:From f:\\GenAI Project\\venv\\lib\\site-packages\\keras\\src\\losses.py:2976: The name tf.losses.sparse_softmax_cross_entropy is deprecated. Please use tf.compat.v1.losses.sparse_softmax_cross_entropy instead.\n",
      "\n"
     ]
    }
   ],
   "source": [
    "import numpy as np\n",
    "import tensorflow as tf\n",
    "from tensorflow.keras.datasets import imdb\n",
    "from tensorflow.keras.preprocessing import sequence\n",
    "from tensorflow.keras.models import Sequential\n",
    "from tensorflow.keras.layers import Embedding, SimpleRNN, Dense"
   ]
  },
  {
   "cell_type": "code",
   "execution_count": 4,
   "id": "5f10e38e",
   "metadata": {},
   "outputs": [
    {
     "name": "stdout",
     "output_type": "stream",
     "text": [
      "Training data shape: (25000,), Training labels shape: (25000,)\n",
      "Testing data shape: (25000,), Training labels shape: (25000,)\n"
     ]
    }
   ],
   "source": [
    "## Load Dataset\n",
    "max_features=10000  ## Vocabulary Size\n",
    "(X_train,y_train),(X_test,y_test)=imdb.load_data(num_words=max_features)\n",
    "\n",
    "\n",
    "##Print the shape of the data\n",
    "print(f'Training data shape: {X_train.shape}, Training labels shape: {y_train.shape}')\n",
    "print(f'Testing data shape: {X_test.shape}, Training labels shape: {y_test.shape}')"
   ]
  },
  {
   "cell_type": "code",
   "execution_count": 8,
   "id": "0a4f336a",
   "metadata": {},
   "outputs": [
    {
     "data": {
      "text/plain": [
       "1"
      ]
     },
     "execution_count": 8,
     "metadata": {},
     "output_type": "execute_result"
    }
   ],
   "source": [
    "##Inspect a sample Review and Its Label\n",
    "sample_review = y_train[0]\n",
    "sample_review"
   ]
  },
  {
   "cell_type": "code",
   "execution_count": 5,
   "id": "60082dee",
   "metadata": {},
   "outputs": [
    {
     "data": {
      "text/plain": [
       "array([[   0,    0,    0, ...,   19,  178,   32],\n",
       "       [   0,    0,    0, ...,   16,  145,   95],\n",
       "       [   0,    0,    0, ...,    7,  129,  113],\n",
       "       ...,\n",
       "       [   0,    0,    0, ...,    4, 3586,    2],\n",
       "       [   0,    0,    0, ...,   12,    9,   23],\n",
       "       [   0,    0,    0, ...,  204,  131,    9]])"
      ]
     },
     "execution_count": 5,
     "metadata": {},
     "output_type": "execute_result"
    }
   ],
   "source": [
    "from tensorflow.keras.preprocessing import sequence\n",
    "\n",
    "max_length = 500\n",
    "X_train=sequence.pad_sequences(X_train,maxlen=max_length)\n",
    "X_test=sequence.pad_sequences(X_test,maxlen=max_length)\n",
    "X_train"
   ]
  },
  {
   "cell_type": "code",
   "execution_count": 6,
   "id": "89ce41a7",
   "metadata": {},
   "outputs": [
    {
     "name": "stdout",
     "output_type": "stream",
     "text": [
      "WARNING:tensorflow:From f:\\GenAI Project\\venv\\lib\\site-packages\\keras\\src\\backend.py:873: The name tf.get_default_graph is deprecated. Please use tf.compat.v1.get_default_graph instead.\n",
      "\n"
     ]
    }
   ],
   "source": [
    "## Train Simple RNN\n",
    "\n",
    "model = Sequential()\n",
    "model.add(Embedding(max_features,200,input_length=max_length))  ## Embedding Layers\n",
    "model.add(SimpleRNN(200,activation='tanh'))\n",
    "model.add(Dense(1,activation='sigmoid'))\n"
   ]
  },
  {
   "cell_type": "code",
   "execution_count": 7,
   "id": "49a914c5",
   "metadata": {},
   "outputs": [
    {
     "name": "stdout",
     "output_type": "stream",
     "text": [
      "Model: \"sequential\"\n",
      "_________________________________________________________________\n",
      " Layer (type)                Output Shape              Param #   \n",
      "=================================================================\n",
      " embedding (Embedding)       (None, 500, 200)          2000000   \n",
      "                                                                 \n",
      " simple_rnn (SimpleRNN)      (None, 200)               80200     \n",
      "                                                                 \n",
      " dense (Dense)               (None, 1)                 201       \n",
      "                                                                 \n",
      "=================================================================\n",
      "Total params: 2080401 (7.94 MB)\n",
      "Trainable params: 2080401 (7.94 MB)\n",
      "Non-trainable params: 0 (0.00 Byte)\n",
      "_________________________________________________________________\n"
     ]
    }
   ],
   "source": [
    "from tensorflow.keras.optimizers import Adam\n",
    "model.summary()\n",
    "optimize = Adam(learning_rate=0.001, clipnorm=1.0)\n",
    "model.compile(optimizer=optimize,loss='binary_crossentropy', metrics=['accuracy'])"
   ]
  },
  {
   "cell_type": "code",
   "execution_count": 8,
   "id": "e3631b71",
   "metadata": {},
   "outputs": [
    {
     "data": {
      "text/plain": [
       "<keras.src.callbacks.EarlyStopping at 0x293dd4db7c0>"
      ]
     },
     "execution_count": 8,
     "metadata": {},
     "output_type": "execute_result"
    }
   ],
   "source": [
    "## Create an Early Stop Callback\n",
    "from tensorflow.keras.callbacks import EarlyStopping\n",
    "early_stopping=EarlyStopping(monitor='val_loss',patience=5,restore_best_weights=True)\n",
    "early_stopping"
   ]
  },
  {
   "cell_type": "code",
   "execution_count": 9,
   "id": "78be777d",
   "metadata": {},
   "outputs": [
    {
     "name": "stdout",
     "output_type": "stream",
     "text": [
      "Epoch 1/10\n",
      "WARNING:tensorflow:From f:\\GenAI Project\\venv\\lib\\site-packages\\keras\\src\\utils\\tf_utils.py:492: The name tf.ragged.RaggedTensorValue is deprecated. Please use tf.compat.v1.ragged.RaggedTensorValue instead.\n",
      "\n",
      "WARNING:tensorflow:From f:\\GenAI Project\\venv\\lib\\site-packages\\keras\\src\\engine\\base_layer_utils.py:384: The name tf.executing_eagerly_outside_functions is deprecated. Please use tf.compat.v1.executing_eagerly_outside_functions instead.\n",
      "\n",
      "625/625 [==============================] - 117s 182ms/step - loss: 0.6903 - accuracy: 0.5396 - val_loss: 0.6465 - val_accuracy: 0.5956\n",
      "Epoch 2/10\n",
      "625/625 [==============================] - 107s 171ms/step - loss: 0.5079 - accuracy: 0.7605 - val_loss: 0.5084 - val_accuracy: 0.7598\n",
      "Epoch 3/10\n",
      "625/625 [==============================] - 107s 171ms/step - loss: 0.3994 - accuracy: 0.8297 - val_loss: 0.4484 - val_accuracy: 0.8020\n",
      "Epoch 4/10\n",
      "625/625 [==============================] - 106s 170ms/step - loss: 0.3453 - accuracy: 0.8583 - val_loss: 0.4784 - val_accuracy: 0.8196\n",
      "Epoch 5/10\n",
      "625/625 [==============================] - 104s 167ms/step - loss: 0.3443 - accuracy: 0.8556 - val_loss: 0.5865 - val_accuracy: 0.7044\n",
      "Epoch 6/10\n",
      "625/625 [==============================] - 104s 167ms/step - loss: 0.3618 - accuracy: 0.8508 - val_loss: 0.5431 - val_accuracy: 0.7658\n",
      "Epoch 7/10\n",
      "625/625 [==============================] - 104s 167ms/step - loss: 0.3243 - accuracy: 0.8690 - val_loss: 0.5409 - val_accuracy: 0.7752\n",
      "Epoch 8/10\n",
      "625/625 [==============================] - 104s 167ms/step - loss: 0.3173 - accuracy: 0.8716 - val_loss: 0.5900 - val_accuracy: 0.7706\n"
     ]
    },
    {
     "data": {
      "text/plain": [
       "<keras.src.callbacks.History at 0x293f3563a90>"
      ]
     },
     "execution_count": 9,
     "metadata": {},
     "output_type": "execute_result"
    }
   ],
   "source": [
    "## Train the model\n",
    "model.fit(\n",
    "    X_train,\n",
    "    y_train,\n",
    "    epochs=10,\n",
    "    batch_size=32,\n",
    "    validation_split= 0.2,\n",
    "    callbacks=[early_stopping]\n",
    ")"
   ]
  },
  {
   "cell_type": "code",
   "execution_count": null,
   "id": "57396b3d",
   "metadata": {},
   "outputs": [],
   "source": []
  }
 ],
 "metadata": {
  "kernelspec": {
   "display_name": "Python 3",
   "language": "python",
   "name": "python3"
  },
  "language_info": {
   "codemirror_mode": {
    "name": "ipython",
    "version": 3
   },
   "file_extension": ".py",
   "mimetype": "text/x-python",
   "name": "python",
   "nbconvert_exporter": "python",
   "pygments_lexer": "ipython3",
   "version": "3.10.16"
  }
 },
 "nbformat": 4,
 "nbformat_minor": 5
}
