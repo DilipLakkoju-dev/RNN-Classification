{
 "cells": [
  {
   "cell_type": "code",
   "execution_count": 7,
   "id": "ae9694f4",
   "metadata": {},
   "outputs": [
    {
     "name": "stdout",
     "output_type": "stream",
     "text": [
      "WARNING:tensorflow:From f:\\GenAI Project\\venv\\lib\\site-packages\\keras\\src\\losses.py:2976: The name tf.losses.sparse_softmax_cross_entropy is deprecated. Please use tf.compat.v1.losses.sparse_softmax_cross_entropy instead.\n",
      "\n"
     ]
    }
   ],
   "source": [
    "from tensorflow.keras.preprocessing.text import one_hot"
   ]
  },
  {
   "cell_type": "code",
   "execution_count": 1,
   "id": "321008db",
   "metadata": {},
   "outputs": [],
   "source": [
    "## Sentences\n",
    "sent = [\n",
    "    'the glass of milk',\n",
    "    'the glass of juice',\n",
    "    'the cup of tea',\n",
    "    'i am a good boy',\n",
    "    'i am a good developer',\n",
    "    'understand the meaning of  words',\n",
    "    'your videos are good',\n",
    "]"
   ]
  },
  {
   "cell_type": "code",
   "execution_count": 2,
   "id": "ccccfb7c",
   "metadata": {},
   "outputs": [
    {
     "data": {
      "text/plain": [
       "['the glass of milk',\n",
       " 'the glass of juice',\n",
       " 'the cup of tea',\n",
       " 'i am a good boy',\n",
       " 'i am a good developer',\n",
       " 'understand the meaning of  words',\n",
       " 'your videos are good']"
      ]
     },
     "execution_count": 2,
     "metadata": {},
     "output_type": "execute_result"
    }
   ],
   "source": [
    "sent"
   ]
  },
  {
   "cell_type": "code",
   "execution_count": null,
   "id": "38a3185c",
   "metadata": {},
   "outputs": [],
   "source": [
    "## define the vocabulary Size\n",
    "\n",
    "voc_size = 10000"
   ]
  },
  {
   "cell_type": "code",
   "execution_count": 8,
   "id": "69ff16bf",
   "metadata": {},
   "outputs": [
    {
     "data": {
      "text/plain": [
       "[[7170, 5424, 1285, 7800],\n",
       " [7170, 5424, 1285, 4144],\n",
       " [7170, 238, 1285, 4421],\n",
       " [2727, 8123, 5657, 8179, 1587],\n",
       " [2727, 8123, 5657, 8179, 5161],\n",
       " [3524, 7170, 2975, 1285, 7950],\n",
       " [1010, 5178, 6028, 8179]]"
      ]
     },
     "execution_count": 8,
     "metadata": {},
     "output_type": "execute_result"
    }
   ],
   "source": [
    "## One Hot Representation for every word\n",
    "one_hot_representation = [one_hot(words,voc_size)for words in sent]\n",
    "one_hot_representation"
   ]
  },
  {
   "cell_type": "code",
   "execution_count": 9,
   "id": "df5f1f85",
   "metadata": {},
   "outputs": [],
   "source": [
    "from tensorflow.keras.layers import Embedding\n",
    "from tensorflow.keras.utils import pad_sequences\n",
    "from tensorflow.keras.models import Sequential"
   ]
  },
  {
   "cell_type": "code",
   "execution_count": null,
   "id": "6b1fe1d0",
   "metadata": {},
   "outputs": [],
   "source": [
    "import numpy as np"
   ]
  }
 ],
 "metadata": {
  "kernelspec": {
   "display_name": "Python 3",
   "language": "python",
   "name": "python3"
  },
  "language_info": {
   "codemirror_mode": {
    "name": "ipython",
    "version": 3
   },
   "file_extension": ".py",
   "mimetype": "text/x-python",
   "name": "python",
   "nbconvert_exporter": "python",
   "pygments_lexer": "ipython3",
   "version": "3.10.16"
  }
 },
 "nbformat": 4,
 "nbformat_minor": 5
}
